{
  "nbformat": 4,
  "nbformat_minor": 0,
  "metadata": {
    "colab": {
      "provenance": [],
      "gpuType": "T4"
    },
    "kernelspec": {
      "name": "python3",
      "display_name": "Python 3"
    },
    "language_info": {
      "name": "python"
    },
    "accelerator": "GPU"
  },
  "cells": [
    {
      "cell_type": "code",
      "execution_count": null,
      "metadata": {
        "id": "Dt4MLqnPxItG"
      },
      "outputs": [],
      "source": [
        "!pip install ultralytics opencv-python tensorflow keras scikit-learn matplotlib"
      ]
    },
    {
      "cell_type": "code",
      "source": [
        "from ultralytics import YOLO\n",
        "import cv2\n",
        "import numpy as np\n",
        "from sklearn.metrics import classification_report, confusion_matrix, precision_score, recall_score, f1_score, accuracy_score\n",
        "import matplotlib.pyplot as plt"
      ],
      "metadata": {
        "id": "gUq8yfzPxZpy"
      },
      "execution_count": null,
      "outputs": []
    },
    {
      "cell_type": "code",
      "source": [
        "from ultralytics import YOLO\n",
        "import os\n",
        "\n",
        "# Check if GPU is available\n",
        "import torch\n",
        "device = \"cuda\" if torch.cuda.is_available() else \"cpu\"\n",
        "print(f\"Using device: {device}\")"
      ],
      "metadata": {
        "id": "_8GQHyp1xg--"
      },
      "execution_count": null,
      "outputs": []
    },
    {
      "cell_type": "code",
      "source": [
        "# Step 1: Load YOLO11 Pretrained Model\n",
        "model = YOLO(\"yolo11n.pt\")  # Use 'yolo11s.pt', 'yolo11m.pt', etc., for larger models"
      ],
      "metadata": {
        "id": "lf0ZbtrAxo8Z"
      },
      "execution_count": null,
      "outputs": []
    },
    {
      "cell_type": "code",
      "source": [
        "from google.colab import drive\n",
        "drive.mount('/content/drive')"
      ],
      "metadata": {
        "id": "3RSRnyMhyCdL"
      },
      "execution_count": null,
      "outputs": []
    },
    {
      "cell_type": "code",
      "source": [
        "import zipfile\n",
        "zip_path =  '/content/drive/MyDrive/combine11.zip' # Replace with your ZIP file's path\n",
        "extract_path = '/content/drive/My Drive/Folder/extracted'  # Replace with your desired extraction folder\n",
        "\n",
        "with zipfile.ZipFile(zip_path, 'r') as zip_ref:\n",
        "    zip_ref.extractall(extract_path)\n",
        "\n",
        "print(f\"ZIP file extracted to: {extract_path}\")"
      ],
      "metadata": {
        "id": "52ebnBpIyczX"
      },
      "execution_count": null,
      "outputs": []
    },
    {
      "cell_type": "code",
      "source": [
        "# Path to your data.yaml file (modify if needed)\n",
        "data_yaml_path = '/content/drive/MyDrive/Folder/extracted/combine11/data.yaml'\n",
        "\n",
        "# Check if the file exists\n",
        "if os.path.exists(data_yaml_path):\n",
        "    print(f\"Found dataset configuration: {data_yaml_path}\")\n",
        "else:\n",
        "    raise FileNotFoundError(\"data.yaml file not found!\")"
      ],
      "metadata": {
        "id": "XclAoCP71BLc"
      },
      "execution_count": null,
      "outputs": []
    },
    {
      "cell_type": "code",
      "source": [
        "# Load a pre-trained YOLO11 model (e.g., yolov8n.pt, yolov8s.pt, etc.)\n",
        "model = YOLO('yolo11n.pt')  # 'yolo11n.pt' is the nano model; you can choose 's', 'm', 'l', 'x' for different sizes\n",
        "\n",
        "# Training parameters\n",
        "results = model.train(\n",
        "    data=data_yaml_path,    # Path to your dataset YAML file\n",
        "    epochs=10,              # Number of epochs for training\n",
        "    batch=16,               # Batch size\n",
        "    imgsz=640,              # Input image size\n",
        "    device=device,          # Use CUDA if available\n",
        "    project='yolov8_results',  # Project folder for saving results\n",
        "    name='custom_training',   # Experiment name\n",
        "    pretrained=True         # Use pretrained weights\n",
        ")"
      ],
      "metadata": {
        "id": "dRFghXiK1WzN"
      },
      "execution_count": null,
      "outputs": []
    },
    {
      "cell_type": "code",
      "source": [
        "# Path to the trained weights (best.pt)\n",
        "trained_weights = 'yolov8_results/custom_training/weights/best.pt'\n",
        "\n",
        "# Load the trained model\n",
        "model = YOLO(trained_weights)\n",
        "\n",
        "# Evaluate the model on the validation set\n",
        "metrics = model.val(\n",
        "    data=data_yaml_path,  # Dataset YAML file\n",
        "    imgsz=640,            # Image size\n",
        "    batch=16,             # Batch size for evaluation\n",
        "    device=device         # Device to use for evaluation\n",
        ")\n",
        "\n",
        "print(\"Evaluation completed!\")\n",
        "print(metrics)"
      ],
      "metadata": {
        "id": "w19bWM-eRKB0"
      },
      "execution_count": null,
      "outputs": []
    },
    {
      "cell_type": "code",
      "source": [
        "import cv2\n",
        "import matplotlib.pyplot as plt\n",
        "\n",
        "# Example image to test\n",
        "test_image_path = '/content/drive/MyDrive/Folder/extracted/combine11/test/images'\n",
        "\n",
        "# Load and predict\n",
        "results = model(test_image_path)\n",
        "\n",
        "# Display the results\n",
        "result_image = results[0].plot()  # Plot the results on the image\n",
        "plt.imshow(cv2.cvtColor(result_image, cv2.COLOR_BGR2RGB))\n",
        "plt.axis('off')\n",
        "plt.show()"
      ],
      "metadata": {
        "id": "5nqR4VJWSJCD"
      },
      "execution_count": null,
      "outputs": []
    },
    {
      "cell_type": "code",
      "source": [
        "from ultralytics import YOLO\n",
        "import matplotlib.pyplot as plt\n",
        "\n",
        "\n",
        "# Path to the test dataset\n",
        "test_data_path = '/content/drive/MyDrive/Folder/extracted/combine11/data.yaml'  # Path to your test dataset YAML file"
      ],
      "metadata": {
        "id": "7oQ8Kmt_Ss6Z"
      },
      "execution_count": null,
      "outputs": []
    },
    {
      "cell_type": "code",
      "source": [
        "import glob  # Import glob module\n",
        "import matplotlib.pyplot as plt"
      ],
      "metadata": {
        "id": "yN97Yn6yTP0J"
      },
      "execution_count": null,
      "outputs": []
    },
    {
      "cell_type": "code",
      "source": [
        "# Path to test image(s)\n",
        "test_image_path =  '/content/drive/MyDrive/Folder/extracted/combine11/test/images/*.jpg'  # Replace with your folder path\n",
        "test_images = glob.glob(test_image_path)\n",
        "\n",
        "# Run predictions and visualize results\n",
        "for img_path in test_images:\n",
        "    results = model(img_path)  # Predict on image\n",
        "\n",
        "    # Each result is a single prediction object\n",
        "    for result in results:\n",
        "        result.show()  # Display predictions\n",
        "        # Save output image\n",
        "        save_path = img_path.replace(\".jpg\", \"_output.jpg\")\n",
        "        result.save(filename=save_path)\n",
        "        print(f\"Saved output image: {save_path}\")\n",
        "\n",
        "print(\"Testing complete. Predictions displayed and saved.\")"
      ],
      "metadata": {
        "id": "D-90vIMzSx20"
      },
      "execution_count": null,
      "outputs": []
    },
    {
      "cell_type": "code",
      "source": [
        "# Plot Results\n",
        "for res in results:\n",
        "    boxes = res.boxes\n",
        "    for box in boxes:\n",
        "        print(f\"Class: {box.cls}, Confidence: {box.conf}, Coordinates: {box.xyxy}\")"
      ],
      "metadata": {
        "id": "yzK_Bay8Tw0t"
      },
      "execution_count": null,
      "outputs": []
    }
  ]
}